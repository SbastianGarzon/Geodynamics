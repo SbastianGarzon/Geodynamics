{
 "cells": [
  {
   "cell_type": "code",
   "execution_count": 39,
   "metadata": {
    "collapsed": false
   },
   "outputs": [
    {
     "name": "stdout",
     "output_type": "stream",
     "text": [
      "1.7016960206944714e-08\n"
     ]
    }
   ],
   "source": [
    "import numpy as np\n",
    "from math import *\n",
    "#condiciones iniciales\n",
    "Re= 6870*pow(10,6)\n",
    "Hawaii=[1,19.47,-155.6]\n",
    "Polo=[1,-61.7,97.2]\n",
    "omega=9.75*(pow(10,-7))\n",
    "omega=omega*(pi/180)\n",
    "print (omega)"
   ]
  },
  {
   "cell_type": "code",
   "execution_count": 40,
   "metadata": {
    "collapsed": false
   },
   "outputs": [],
   "source": [
    "#metodos necesarios\n",
    "\n",
    "#grados a radianes\n",
    "def degToRad(X):\n",
    "    X[1]=radians(X[1])\n",
    "    X[2]=radians(X[2])\n",
    "    \n",
    "#coordenadas esfericas a cartesianas\n",
    "\n",
    "def sphericalToCartesian(A):\n",
    "    B=[0,0,0]\n",
    "    B[0]=A[0]*cos(A[1])*cos(A[2])\n",
    "    B[1]=A[0]*cos(A[1])*sin(A[2])\n",
    "    B[2]=A[0]*sin(A[1])\n",
    "    return B\n",
    "\n",
    "#genera la matriz de transformacion\n",
    "\n",
    "def matrixT(K):\n",
    "    T=[[0 for x in range(3)] for x in range(3)]\n",
    "    T[0][0]=-sin(K[1])*cos(K[2])\n",
    "    T[0][1]=-sin(K[1])*sin(K[2])\n",
    "    T[0][2]=cos(K[1])\n",
    "    T[1][0]=-sin(K[2])\n",
    "    T[1][1]=cos(K[2])\n",
    "    T[1][2]=0\n",
    "    T[2][0]=-cos(K[1])*cos(K[2])\n",
    "    T[2][1]=-cos(K[1])*sin(K[2])\n",
    "    T[2][2]=-sin(K[1])\n",
    "    return T"
   ]
  },
  {
   "cell_type": "code",
   "execution_count": 41,
   "metadata": {
    "collapsed": false
   },
   "outputs": [],
   "source": [
    "degToRad(Hawaii)\n",
    "degToRad(Polo)"
   ]
  },
  {
   "cell_type": "code",
   "execution_count": 42,
   "metadata": {
    "collapsed": false
   },
   "outputs": [
    {
     "name": "stdout",
     "output_type": "stream",
     "text": [
      "[-0.05941900823458497, 0.4703498819154954, -0.880477353509162]\n",
      "[ -1.01113090e-09   8.00392522e-09  -1.49830481e-08]\n"
     ]
    }
   ],
   "source": [
    "Polo_car=sphericalToCartesian(Polo)\n",
    "print (Polo_car)\n",
    "Hawaii_car=sphericalToCartesian(Hawaii)\n",
    "Polo_car=omega*np.array(Polo_car)\n",
    "print (Polo_car)"
   ]
  },
  {
   "cell_type": "code",
   "execution_count": 43,
   "metadata": {
    "collapsed": false
   },
   "outputs": [],
   "source": [
    "VC=np.cross(Polo_car,Hawaii_car)\n",
    "VC=Re*np.array(VC)\n",
    "T=matrixT(Hawaii)"
   ]
  },
  {
   "cell_type": "code",
   "execution_count": 60,
   "metadata": {
    "collapsed": false
   },
   "outputs": [],
   "source": [
    "Vt=np.dot(T,VC)"
   ]
  },
  {
   "cell_type": "code",
   "execution_count": 61,
   "metadata": {
    "collapsed": false
   },
   "outputs": [
    {
     "name": "stdout",
     "output_type": "stream",
     "text": [
      "[  5.29453490e+01  -9.15846249e+01   3.55271368e-15]\n"
     ]
    }
   ],
   "source": [
    "print (Vt)"
   ]
  },
  {
   "cell_type": "code",
   "execution_count": 66,
   "metadata": {
    "collapsed": false
   },
   "outputs": [],
   "source": [
    "magnitud=sqrt(pow(Vt[0],2)+pow(Vt[1],2)+pow(Vt[2],2))"
   ]
  },
  {
   "cell_type": "code",
   "execution_count": 68,
   "metadata": {
    "collapsed": false
   },
   "outputs": [
    {
     "name": "stdout",
     "output_type": "stream",
     "text": [
      "10.578730311053373\n"
     ]
    }
   ],
   "source": [
    "print (magnitud/10)"
   ]
  },
  {
   "cell_type": "code",
   "execution_count": 71,
   "metadata": {
    "collapsed": false
   },
   "outputs": [
    {
     "name": "stdout",
     "output_type": "stream",
     "text": [
      "La magnitud del vector de movimiento de Hawaii con respecto a la placa del pacífico es 10.578730311053373 cm/year\n"
     ]
    }
   ],
   "source": [
    "print (\"La magnitud del vector de movimiento de Hawaii con respecto a la placa del pacífico es \"+str(magnitud/10)+\" cm/year\")"
   ]
  },
  {
   "cell_type": "code",
   "execution_count": null,
   "metadata": {
    "collapsed": true
   },
   "outputs": [],
   "source": []
  }
 ],
 "metadata": {
  "kernelspec": {
   "display_name": "Python 3",
   "language": "python",
   "name": "python3"
  },
  "language_info": {
   "codemirror_mode": {
    "name": "ipython",
    "version": 3
   },
   "file_extension": ".py",
   "mimetype": "text/x-python",
   "name": "python",
   "nbconvert_exporter": "python",
   "pygments_lexer": "ipython3",
   "version": "3.4.3"
  }
 },
 "nbformat": 4,
 "nbformat_minor": 0
}
